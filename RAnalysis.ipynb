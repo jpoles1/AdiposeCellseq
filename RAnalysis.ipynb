{
 "cells": [
  {
   "cell_type": "code",
   "execution_count": 2,
   "metadata": {},
   "outputs": [
    {
     "name": "stderr",
     "output_type": "stream",
     "text": [
      "\n",
      "Attaching package: 'gplots'\n",
      "\n",
      "The following object is masked from 'package:IRanges':\n",
      "\n",
      "    space\n",
      "\n",
      "The following object is masked from 'package:S4Vectors':\n",
      "\n",
      "    space\n",
      "\n",
      "The following object is masked from 'package:stats':\n",
      "\n",
      "    lowess\n",
      "\n",
      "\n",
      "Attaching package: 'genefilter'\n",
      "\n",
      "The following objects are masked from 'package:matrixStats':\n",
      "\n",
      "    rowSds, rowVars\n",
      "\n"
     ]
    }
   ],
   "source": [
    "library( DESeq2 )\n",
    "library( ggplot2 )\n",
    "library( biomaRt )\n",
    "library( gplots )\n",
    "library( genefilter )\n"
   ]
  },
  {
   "cell_type": "code",
   "execution_count": 223,
   "metadata": {},
   "outputs": [
    {
     "name": "stderr",
     "output_type": "stream",
     "text": [
      "estimating size factors\n",
      "estimating dispersions\n",
      "gene-wise dispersion estimates\n",
      "mean-dispersion relationship\n",
      "final dispersion estimates\n",
      "fitting model and testing\n"
     ]
    },
    {
     "data": {
      "image/png": "[encoded data removed]",
      "text/plain": [
       "Plot with title \"Dispersion plot\""
      ]
     },
     "metadata": {},
     "output_type": "display_data"
    }
   ],
   "source": [
    "species.db <- \"mmusculus_gene_ensembl\"\n",
    "db.version <- \"grcm38\"\n",
    "metadata.file <- \"sample_sheet_Patrick_AdiposeMacs.txt\"\n",
    "contrasts <- list( c( \"series\", \"HFD-pLex\", \"HFD-SEA\" ),\n",
    "                 c( \"HFD-worm\", 1, 0))\n",
    "fdr <- 0.05\n",
    "lfc <- 0\n",
    "\n",
    "# read in metadata\n",
    "metadata <- read.csv(\"rmetadata.csv\")\n",
    "colnames(metadata) = c(\"id\", \"fname\", \"series\")\n",
    "metadata[\"HFD-worm\"] = metadata[\"series\"] %in% c(\"HFD-pLex\", \"HFD-SEA\")\n",
    "metadata[\"HFD-worm\"] = metadata[\"HFD-worm\"] - as.integer(metadata[\"series\"] == \"LFD\")\n",
    "# generate object for DESeq2\n",
    "cds <- DESeqDataSetFromHTSeqCount( sampleTable = metadata,\n",
    "                                   directory = \"htseq_count\",\n",
    "                                   design = ~ series )\n",
    "cds <- cds[ which( rowSums( counts( cds ) ) > 1 ), ]\n",
    "counts <- counts( cds )\n",
    "\n",
    "# NBM fit\n",
    "dds <- DESeq( cds )\n",
    "saveRDS( dds, file = \"deseq2_fit.RDS\" )\n",
    "plotDispEsts( dds, main = \"Dispersion plot\" )\n",
    "\n",
    "# create database for annotation before running loops\n",
    "mart <- useMart( \"ENSEMBL_MART_ENSEMBL\", dataset = species.db ) \n",
    "# host = \"www.biomart.org\" )\n",
    "# host = paste0( db.version, \".ensembl.org\" ) )\n",
    "filters <- c(\"external_gene_name\")\n",
    "attributes <- c(\"external_gene_name\", \"name_1006\")"
   ]
  },
  {
   "cell_type": "code",
   "execution_count": 215,
   "metadata": {},
   "outputs": [
    {
     "data": {
      "text/html": [
       "<strong>png:</strong> 2"
      ],
      "text/latex": [
       "\\textbf{png:} 2"
      ],
      "text/markdown": [
       "**png:** 2"
      ],
      "text/plain": [
       "png \n",
       "  2 "
      ]
     },
     "metadata": {},
     "output_type": "display_data"
    }
   ],
   "source": []
  },
  {
   "cell_type": "code",
   "execution_count": 224,
   "metadata": {},
   "outputs": [],
   "source": [
    "# maintain un-annotated genes in BioMart, otherwise it will just get excluded in annotation data frame \n",
    "# resulting in un-identified rows in the stats data frame\n",
    "\n",
    "all.single_anno <- merge( all.genes, all.anno, by.x = \"Ensembl\", by.y = \"external_gene_name\",\n",
    "                  all.x = T )\n",
    "all.single_anno <- all.single_anno[ match( all.genes[,1], all.single_anno$Ensembl ), ] # reorder the annotation by LFC order"
   ]
  },
  {
   "cell_type": "code",
   "execution_count": 219,
   "metadata": {},
   "outputs": [],
   "source": [
    "# resulting in un-identified rows in the stats data frame\n",
    "all.anno.wStats <- data.frame( all.single_anno, all )\n",
    "write.table( all.anno.wStats, paste0(currcon[2], \"_vs_\", currcon[3], \"_FDR\", fdr, \"_ALL.txt\" ),\n",
    "           sep=\"\\t\", quote=F, row.names=F, col.names=T )\n",
    "write.table( all.anno.wStats[,2], paste0(currcon[2], \"_vs_\", currcon[3], \"_FDR\", fdr, \"_ALL_GeneList.txt\" ),\n",
    "           sep=\"\\t\", quote=F, row.names=F, col.names=F )\n",
    "\n",
    "# Upregulated genes only\n",
    "up.anno.wStats <- subset(all.anno.wStats, padj < fdr & log2FoldChange > lfc )\n",
    "up.anno.wStats <- up.anno.wStats[ order( up.anno.wStats$log2FoldChange, decreasing = T ), ]\n",
    "\n",
    "write.table( up.anno.wStats, paste0(currcon[2], \"_vs_\", currcon[3], \"_FDR\", fdr, \"_up.txt\" ),\n",
    "           sep=\"\\t\", quote=F, row.names=F, col.names=T )\n",
    "write.table( up.anno.wStats[,2], paste0(currcon[2], \"_vs_\", currcon[3], \"_FDR\", fdr, \"_up_GeneList.txt\" ),\n",
    "           sep=\"\\t\", quote=F, row.names=F, col.names=F )\n",
    "\n",
    "# Downregulated genes only\n",
    "down.anno.wStats <- subset(all.anno.wStats, padj < fdr & log2FoldChange < lfc )\n",
    "down.anno.wStats <- down.anno.wStats[ order( down.anno.wStats$log2FoldChange, decreasing = F ), ]\n",
    "\n",
    "write.table( down.anno.wStats, paste0(currcon[2], \"_vs_\", currcon[3], \"_FDR\", fdr, \"_down.txt\" ),\n",
    "           sep=\"\\t\", quote=F, row.names=F, col.names=T )\n",
    "write.table( down.anno.wStats[,2], paste0(currcon[2], \"_vs_\", currcon[3], \"_FDR\", fdr, \"_down_GeneList.txt\" ),\n",
    "           sep=\"\\t\", quote=F, row.names=F, col.names=F )\n"
   ]
  },
  {
   "cell_type": "code",
   "execution_count": 111,
   "metadata": {},
   "outputs": [
    {
     "ename": "ERROR",
     "evalue": "Error in fix.by(by.y, y): 'by' must specify a uniquely valid column\n",
     "output_type": "error",
     "traceback": [
      "Error in fix.by(by.y, y): 'by' must specify a uniquely valid column\nTraceback:\n",
      "1. merge(all.genes, all.anno, by.x = \"Ensembl\", by.y = \"ensembl_gene_id\", \n .     all.x = T)",
      "2. merge(all.genes, all.anno, by.x = \"Ensembl\", by.y = \"ensembl_gene_id\", \n .     all.x = T)",
      "3. merge.data.frame(all.genes, all.anno, by.x = \"Ensembl\", by.y = \"ensembl_gene_id\", \n .     all.x = T)",
      "4. fix.by(by.y, y)",
      "5. stop(ngettext(sum(bad), \"'by' must specify a uniquely valid column\", \n .     \"'by' must specify uniquely valid columns\"), domain = NA)"
     ]
    }
   ],
   "source": [
    "for (fac in 1:length(contrasts)) {\n",
    "  currcon <- contrasts[[fac]]\n",
    "  res <- results( dds, contrast = currcon )\n",
    "  \n",
    "  pdf( paste0( currcon[2], \"_vs_\", currcon[3], \".pdf\" ) )\n",
    "  DESeq2::plotMA( res, main = paste0( currcon[2], \" vs \", currcon[3] ),\n",
    "                  ylim = c( -5, 5 ), alpha = fdr )\n",
    "  dev.off()\n",
    "  \n",
    "  # All differential genes\n",
    "  all <- subset( res, padj < fdr )\n",
    "  all <- all[ order( all$log2FoldChange, decreasing = T ), ]\n",
    "  # all annotation\n",
    "  all.genes <- rownames( all ) # rownames = ensembl gene ids\n",
    "  all.genes <- data.frame( all.genes )\n",
    "  colnames( all.genes )[1] <- \"Ensembl\"\n",
    "  rows = all.genes[,1]\n",
    "  all.anno <- getBM( attributes = attributes, filters = filters, \n",
    "                     values = list(\"external_gene_name\" = rows, \"mgi_symbol\"=rows),\n",
    "                     mart = mart) # get all annotation based on ensembl ids\n",
    "  # maintain un-annotated genes in BioMart, otherwise it will just get excluded in annotation data frame \n",
    "  # resulting in un-identified rows in the stats data frame\n",
    "  all.anno2 <- merge( all.genes, all.anno, by.x = \"Ensembl\", by.y = \"ensembl_gene_id\",\n",
    "                      all.x = T )\n",
    "  all.anno2 <- all.anno2[ match( all.genes[,1], all.anno2$Ensembl ), ] # reorder the annotation by LFC order\n",
    "  all.anno.wStats <- data.frame( all.anno2, all )\n",
    "  write.table( all.anno.wStats, paste0(currcon[2], \"_vs_\", currcon[3], \"_FDR\", fdr, \"_ALL.txt\" ),\n",
    "               sep=\"\\t\", quote=F, row.names=F, col.names=T )\n",
    "  write.table( all.anno.wStats[,2], paste0(currcon[2], \"_vs_\", currcon[3], \"_FDR\", fdr, \"_ALL_GeneList.txt\" ),\n",
    "               sep=\"\\t\", quote=F, row.names=F, col.names=F )\n",
    "  \n",
    "  # Upregulated genes only\n",
    "  up.anno.wStats <- subset(all.anno.wStats, padj < fdr & log2FoldChange > lfc )\n",
    "  up.anno.wStats <- up.anno.wStats[ order( up.anno.wStats$log2FoldChange, decreasing = T ), ]\n",
    "  \n",
    "  write.table( up.anno.wStats, paste0(currcon[2], \"_vs_\", currcon[3], \"_FDR\", fdr, \"_up.txt\" ),\n",
    "               sep=\"\\t\", quote=F, row.names=F, col.names=T )\n",
    "  write.table( up.anno.wStats[,2], paste0(currcon[2], \"_vs_\", currcon[3], \"_FDR\", fdr, \"_up_GeneList.txt\" ),\n",
    "               sep=\"\\t\", quote=F, row.names=F, col.names=F )\n",
    "  \n",
    "  # Downregulated genes only\n",
    "  down.anno.wStats <- subset(all.anno.wStats, padj < fdr & log2FoldChange < lfc )\n",
    "  down.anno.wStats <- down.anno.wStats[ order( down.anno.wStats$log2FoldChange, decreasing = F ), ]\n",
    "  \n",
    "  write.table( down.anno.wStats, paste0(currcon[2], \"_vs_\", currcon[3], \"_FDR\", fdr, \"_down.txt\" ),\n",
    "               sep=\"\\t\", quote=F, row.names=F, col.names=T )\n",
    "  write.table( down.anno.wStats[,2], paste0(currcon[2], \"_vs_\", currcon[3], \"_FDR\", fdr, \"_down_GeneList.txt\" ),\n",
    "               sep=\"\\t\", quote=F, row.names=F, col.names=F )\n",
    "  \n",
    "}\n"
   ]
  },
  {
   "cell_type": "markdown",
   "metadata": {},
   "source": [
    "### Regularized transformation of read counts.\n",
    "Take only genes with a max value >25th percentile of the per-gene max value.\n"
   ]
  },
  {
   "cell_type": "code",
   "execution_count": 221,
   "metadata": {
    "collapsed": true
   },
   "outputs": [],
   "source": [
    "rld <- rlog( cds, blind = T )\n",
    "rld <- assay( rld )\n",
    "maxPerGene <- apply( rld, 1, max )\n",
    "rld.25p <- rld[ which( maxPerGene > quantile( maxPerGene )[2] ), ]\n"
   ]
  }
 ],
 "metadata": {
  "kernelspec": {
   "display_name": "R",
   "language": "R",
   "name": "ir"
  },
  "language_info": {
   "codemirror_mode": "r",
   "file_extension": ".r",
   "mimetype": "text/x-r-source",
   "name": "R",
   "pygments_lexer": "r",
   "version": "3.4.1"
  }
 },
 "nbformat": 4,
 "nbformat_minor": 2
}
